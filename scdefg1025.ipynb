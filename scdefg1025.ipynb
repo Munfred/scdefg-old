{
  "nbformat": 4,
  "nbformat_minor": 0,
  "metadata": {
    "colab": {
      "name": "scdefg1025.ipynb",
      "provenance": [],
      "collapsed_sections": [],
      "include_colab_link": true
    },
    "kernelspec": {
      "name": "python3",
      "display_name": "Python 3"
    }
  },
  "cells": [
    {
      "cell_type": "markdown",
      "metadata": {
        "id": "view-in-github",
        "colab_type": "text"
      },
      "source": [
        "<a href=\"https://colab.research.google.com/github/Munfred/scdefg/blob/main/scdefg1025.ipynb\" target=\"_parent\"><img src=\"https://colab.research.google.com/assets/colab-badge.svg\" alt=\"Open In Colab\"/></a>"
      ]
    },
    {
      "cell_type": "code",
      "metadata": {
        "id": "iiyR_cbZnXWW",
        "outputId": "9d7e367b-22b0-48f6-c1e0-cf5f9b188c7f",
        "colab": {
          "base_uri": "https://localhost:8080/",
          "height": 119
        }
      },
      "source": [
        "!git clone https://github.com/Munfred/scdefg.git"
      ],
      "execution_count": 88,
      "outputs": [
        {
          "output_type": "stream",
          "text": [
            "Cloning into 'scdefg'...\n",
            "remote: Enumerating objects: 5, done.\u001b[K\n",
            "remote: Counting objects: 100% (5/5), done.\u001b[K\n",
            "remote: Compressing objects: 100% (4/4), done.\u001b[K\n",
            "remote: Total 5 (delta 0), reused 0 (delta 0), pack-reused 0\u001b[K\n",
            "Unpacking objects: 100% (5/5), done.\n"
          ],
          "name": "stdout"
        }
      ]
    },
    {
      "cell_type": "code",
      "metadata": {
        "id": "1cljkrUaPeyg",
        "outputId": "8fa449c2-2171-45ed-d6de-751a26cffc8b",
        "colab": {
          "base_uri": "https://localhost:8080/",
          "height": 751
        }
      },
      "source": [
        "!pip install Flask-Misaka\n",
        "!pip install Flask-Markdown\n",
        "!pip install flask-ngrok\n",
        "!pip install flask==0.12.2  # Newer versions of flask don't work in Colab\n",
        "                            # See https://github.com/plotly/dash/issues/257"
      ],
      "execution_count": 13,
      "outputs": [
        {
          "output_type": "stream",
          "text": [
            "Collecting Flask-Misaka\n",
            "  Downloading https://files.pythonhosted.org/packages/7d/23/88a2f333e81e16ce163e75dabe604da743c5d3a1e613cf0346e4445653d1/Flask_Misaka-1.0.0-py3-none-any.whl\n",
            "Requirement already satisfied: Flask>=0.7 in /usr/local/lib/python3.6/dist-packages (from Flask-Misaka) (0.12.2)\n",
            "Collecting misaka<3.0,>=2.0\n",
            "\u001b[?25l  Downloading https://files.pythonhosted.org/packages/fa/87/b1020510a00aba1b936477e54180b143df654c565b84936b0b3e85272cf2/misaka-2.1.1.tar.gz (125kB)\n",
            "\u001b[K     |████████████████████████████████| 133kB 2.8MB/s \n",
            "\u001b[?25hRequirement already satisfied: click>=2.0 in /usr/local/lib/python3.6/dist-packages (from Flask>=0.7->Flask-Misaka) (7.1.2)\n",
            "Requirement already satisfied: Jinja2>=2.4 in /usr/local/lib/python3.6/dist-packages (from Flask>=0.7->Flask-Misaka) (2.11.2)\n",
            "Requirement already satisfied: itsdangerous>=0.21 in /usr/local/lib/python3.6/dist-packages (from Flask>=0.7->Flask-Misaka) (1.1.0)\n",
            "Requirement already satisfied: Werkzeug>=0.7 in /usr/local/lib/python3.6/dist-packages (from Flask>=0.7->Flask-Misaka) (1.0.1)\n",
            "Requirement already satisfied: cffi>=1.0.0 in /usr/local/lib/python3.6/dist-packages (from misaka<3.0,>=2.0->Flask-Misaka) (1.14.3)\n",
            "Requirement already satisfied: MarkupSafe>=0.23 in /usr/local/lib/python3.6/dist-packages (from Jinja2>=2.4->Flask>=0.7->Flask-Misaka) (1.1.1)\n",
            "Requirement already satisfied: pycparser in /usr/local/lib/python3.6/dist-packages (from cffi>=1.0.0->misaka<3.0,>=2.0->Flask-Misaka) (2.20)\n",
            "Building wheels for collected packages: misaka\n",
            "  Building wheel for misaka (setup.py) ... \u001b[?25l\u001b[?25hdone\n",
            "  Created wheel for misaka: filename=misaka-2.1.1-cp36-cp36m-linux_x86_64.whl size=129581 sha256=cfccfcc90b50aadc94c6686a6756bb803ac0aa490e1bcd9197bd0453b66d9508\n",
            "  Stored in directory: /root/.cache/pip/wheels/19/f9/c6/816ca0b45533c2d046c44dc4cbbdf3ad049f62d60f79117683\n",
            "Successfully built misaka\n",
            "Installing collected packages: misaka, Flask-Misaka\n",
            "Successfully installed Flask-Misaka-1.0.0 misaka-2.1.1\n",
            "Requirement already satisfied: Flask-Markdown in /usr/local/lib/python3.6/dist-packages (0.3)\n",
            "Requirement already satisfied: markdown in /usr/local/lib/python3.6/dist-packages (from Flask-Markdown) (3.2.2)\n",
            "Requirement already satisfied: importlib-metadata; python_version < \"3.8\" in /usr/local/lib/python3.6/dist-packages (from markdown->Flask-Markdown) (2.0.0)\n",
            "Requirement already satisfied: zipp>=0.5 in /usr/local/lib/python3.6/dist-packages (from importlib-metadata; python_version < \"3.8\"->markdown->Flask-Markdown) (3.2.0)\n",
            "Requirement already satisfied: flask-ngrok in /usr/local/lib/python3.6/dist-packages (0.0.25)\n",
            "Requirement already satisfied: requests in /usr/local/lib/python3.6/dist-packages (from flask-ngrok) (2.23.0)\n",
            "Requirement already satisfied: Flask>=0.8 in /usr/local/lib/python3.6/dist-packages (from flask-ngrok) (0.12.2)\n",
            "Requirement already satisfied: chardet<4,>=3.0.2 in /usr/local/lib/python3.6/dist-packages (from requests->flask-ngrok) (3.0.4)\n",
            "Requirement already satisfied: urllib3!=1.25.0,!=1.25.1,<1.26,>=1.21.1 in /usr/local/lib/python3.6/dist-packages (from requests->flask-ngrok) (1.24.3)\n",
            "Requirement already satisfied: idna<3,>=2.5 in /usr/local/lib/python3.6/dist-packages (from requests->flask-ngrok) (2.10)\n",
            "Requirement already satisfied: certifi>=2017.4.17 in /usr/local/lib/python3.6/dist-packages (from requests->flask-ngrok) (2020.6.20)\n",
            "Requirement already satisfied: click>=2.0 in /usr/local/lib/python3.6/dist-packages (from Flask>=0.8->flask-ngrok) (7.1.2)\n",
            "Requirement already satisfied: Jinja2>=2.4 in /usr/local/lib/python3.6/dist-packages (from Flask>=0.8->flask-ngrok) (2.11.2)\n",
            "Requirement already satisfied: itsdangerous>=0.21 in /usr/local/lib/python3.6/dist-packages (from Flask>=0.8->flask-ngrok) (1.1.0)\n",
            "Requirement already satisfied: Werkzeug>=0.7 in /usr/local/lib/python3.6/dist-packages (from Flask>=0.8->flask-ngrok) (1.0.1)\n",
            "Requirement already satisfied: MarkupSafe>=0.23 in /usr/local/lib/python3.6/dist-packages (from Jinja2>=2.4->Flask>=0.8->flask-ngrok) (1.1.1)\n",
            "Requirement already satisfied: flask==0.12.2 in /usr/local/lib/python3.6/dist-packages (0.12.2)\n",
            "Requirement already satisfied: Werkzeug>=0.7 in /usr/local/lib/python3.6/dist-packages (from flask==0.12.2) (1.0.1)\n",
            "Requirement already satisfied: itsdangerous>=0.21 in /usr/local/lib/python3.6/dist-packages (from flask==0.12.2) (1.1.0)\n",
            "Requirement already satisfied: Jinja2>=2.4 in /usr/local/lib/python3.6/dist-packages (from flask==0.12.2) (2.11.2)\n",
            "Requirement already satisfied: click>=2.0 in /usr/local/lib/python3.6/dist-packages (from flask==0.12.2) (7.1.2)\n",
            "Requirement already satisfied: MarkupSafe>=0.23 in /usr/local/lib/python3.6/dist-packages (from Jinja2>=2.4->flask==0.12.2) (1.1.1)\n"
          ],
          "name": "stdout"
        }
      ]
    },
    {
      "cell_type": "code",
      "metadata": {
        "id": "v1ZYxoLvaxBb"
      },
      "source": [
        "from flask import Flask,  jsonify, request, render_template, Blueprint, send_file, redirect, url_for\n",
        "import logging\n",
        "import pandas as pd\n",
        "import sys\n",
        "import json\n",
        "import time\n",
        "from io import StringIO\n",
        "import urllib\n",
        "from flaskext.markdown import Markdown\n",
        "from flask_misaka import Misaka\n",
        "from flask_ngrok import run_with_ngrok\n",
        "from google.colab import files\n"
      ],
      "execution_count": 64,
      "outputs": []
    },
    {
      "cell_type": "code",
      "metadata": {
        "id": "aRG30muRgbdy",
        "outputId": "c1143158-42de-4aa6-c5c2-9c3e2a2fb468",
        "colab": {
          "base_uri": "https://localhost:8080/",
          "height": 1000
        }
      },
      "source": [
        "logging.basicConfig(level=logging.INFO)\n",
        "logger=logging.getLogger(__name__)\n",
        "logger.info('Starting wormcells-de...')\n",
        "\n",
        "flask_app = Flask(__name__, template_folder='./scdefg/templates', static_folder='./scdefg/static')\n",
        "flask_app.config['JSONIFY_PRETTYPRINT_REGULAR'] = False\n",
        "\n",
        "run_with_ngrok(flask_app)\n",
        "Misaka(flask_app, math_explicit = True)\n",
        "\n",
        "\n",
        "tables = Blueprint('tables', __name__, url_prefix='/tables')\n",
        "\n",
        "# df with the number of cells of each label in each dataset\n",
        "df = pd.read_csv(flask_app.open_resource('./scdefg/df.csv'))\n",
        "\n",
        "# to render the table titles better we replace underscores with spaces,\n",
        "# use non breaking hyphens (&#8209;) and say batch1 instead of just 1\n",
        "df_nice_names = df.copy()\n",
        "df_nice_names.columns = df_nice_names.columns.str.replace('_',' ')\n",
        "df_nice_names.columns = df_nice_names.columns.str.replace('cho-1 1','cho-1 batch1')\n",
        "df_nice_names.columns = df_nice_names.columns.str.replace('cho-1 2','cho-1 batch2')\n",
        "df_nice_names.columns = df_nice_names.columns.str.replace('unc-47 2','unc-47 batch2')\n",
        "df_nice_names.columns = df_nice_names.columns.str.replace('unc-47 1','unc-47 batch1')\n",
        "df_nice_names.columns = df_nice_names.columns.str.replace('-','&#8209;')\n",
        "\n",
        "# same for cell type names\n",
        "# df_nice_names['Cell Type']= df_nice_names['Cell Type'].str.replace('_',' ')\n",
        "\n",
        "\n",
        "# convert df to dict for sending as json to datatables\n",
        "dict_df = df_nice_names.to_dict(orient='records')\n",
        "# convert column names into dict for sending as json to datatables\n",
        "columns = [{\"data\": item, \"title\": item} for item in df_nice_names.columns]\n",
        "\n",
        "#### datatables ####\n",
        "\n",
        "@tables.route(\"/\", methods=['GET'])\n",
        "def clientside_table_content():\n",
        "    return jsonify({'data': dict_df, 'columns': columns})\n",
        "\n",
        "flask_app.register_blueprint(tables)\n",
        "\n",
        "@flask_app.route(\"/\")\n",
        "def clientside_table():\n",
        "    return render_template(\"clientside_table.html\")\n",
        "\n",
        "\n",
        "####\n",
        "\n",
        "@flask_app.route(\"/test\")\n",
        "def test():\n",
        "    return render_template(\"test.html\")\n",
        "\n",
        "# @flask_app.route(\"/\")\n",
        "# def index():\n",
        "#     logger.info('Got a request for index!')\n",
        "#     return render_template(\"index.html\")\n",
        "\n",
        "@flask_app.route('/submit', methods=['POST', 'GET'])\n",
        "def receive_submission():\n",
        "    logger.info('Got a submission!')\n",
        "    print('PRESSED THE SUBMISSION BUTTOOOON')\n",
        "    # answer is a dict of json strings containing selected row and column index numbers\n",
        "    answer = request.form.to_dict(flat=False)\n",
        "    print(answer)\n",
        "    print(df.head())\n",
        "\n",
        "    #first try is in case submission is from table form\n",
        "    try:\n",
        "      \n",
        "        # need to convert the json strings to dict, then to a data frame\n",
        "        # data1 is the selection for the first group, data2 for the second\n",
        "        data1 = json.loads(answer['data1'][0])\n",
        "        data1_df = pd.DataFrame.from_dict(data1[0])\n",
        "\n",
        "        print(data1_df)\n",
        "        data2 = json.loads(answer['data2'][0])\n",
        "        data2_df = pd.DataFrame.from_dict(data2[0])\n",
        "\n",
        "        # now map the index number to experiment name and cell type name\n",
        "        group1_df = pd.DataFrame()\n",
        "        group1_df['cell_type1'] = data1_df['row'].map(df['Cell Type'])\n",
        "        group1_df['experiment1'] = data1_df['column'].map(pd.Series(df.columns.values))\n",
        "        # print(group1_df)\n",
        "\n",
        "        group2_df = pd.DataFrame()\n",
        "        group2_df['cell_type2'] = data2_df['row'].map(df['Cell Type'])\n",
        "        group2_df['experiment2'] = data2_df['column'].map(pd.Series(df.columns.values))\n",
        "        # print(group2_df)\n",
        "\n",
        "        timestr = time.strftime(\"%Y%m%d-%H%M%S\")\n",
        "        print(timestr)\n",
        "\n",
        "        genes = StringIO(json.loads(answer['genes'][0]))\n",
        "        genes_df = pd.read_csv(genes, names=['selected_genes'])\n",
        "        print(genes_df)\n",
        "        print(jobname)\n",
        "        print('=======')\n",
        "        jobname_df = pd.DataFrame(columns=['job_name'])\n",
        "        jobname_df = jobname_df.append({'job_name': 'bla'}, ignore_index=True)\n",
        "\n",
        "    # if that doesn't work it's a text submission\n",
        "    except:\n",
        "\n",
        "        # need to convert the json strings to stringio, then to a data frame\n",
        "        # data1 is the selection for the first group, data2 for the second\n",
        "\n",
        "        data1 = StringIO(json.loads(answer['data1'][0]))\n",
        "        # print(data1)\n",
        "        group1_df = pd.read_csv(data1, names=['cell_type1', 'experiment1'])\n",
        "        # print(data1_df)\n",
        "\n",
        "        data2 = StringIO(json.loads(answer['data2'][0]))\n",
        "        group2_df = pd.read_csv(data2, names=['cell_type2', 'experiment2'])\n",
        "\n",
        "        genes = StringIO(json.loads(answer['genes'][0]))\n",
        "        genes_df = pd.read_csv(genes, names=['selected_genes'])\n",
        "        print(genes_df)\n",
        "\n",
        "        # now map the index number to experiment name and cell type name\n",
        "\n",
        "        timestr = time.strftime(\"%Y%m%d-%H%M%S\")\n",
        "        print(timestr)\n",
        "\n",
        "    s3filename = 'submissions/' + email + '%' + timestr + '.csv'\n",
        "\n",
        "    selected_groups_df = pd.concat([group1_df, group2_df, genes_df, jobname_df], axis=1)\n",
        "    print(selected_groups_df)\n",
        "\n",
        "    csv_buffer = StringIO()\n",
        "    selected_groups_df.to_csv(csv_buffer)\n",
        "    # files.download(\"readme.md\")\n",
        "\n",
        "\n",
        "    # return 'derpderp'\n",
        "    print('RETUN FILE NOW')\n",
        "    # return send_file('/content/df.csv')\n",
        "    # return send_file('./foo.txt', as_attachment=True)\n",
        "    return redirect(url_for('test'))\n",
        "\n",
        "\n",
        "@flask_app.route('/file_downloads')\n",
        "def file_downloads():\n",
        "\ttry:\n",
        "\t\treturn render_template(\"\"\"\n",
        "\t\t\t<body class=\"body\">\n",
        "\t\t\t\t<div class=\"container\" align=\"left\">\n",
        "\t\t\t\t\t<a href=\"/return_files/\" target=\"blank\"><button class='btn btn-default'>Download!</button></a>\n",
        "\t\t\t\t</div>\n",
        "\t\t\t</body>\t\n",
        "\t\t\"\"\")\n",
        "\texcept Exception as e:\n",
        "\t\treturn str(e)\n",
        "  \n",
        "@flask_app.route('/return_files/')\n",
        "def return_files():\n",
        "\ttry:\n",
        "\t\treturn send_file('./foo.txt', as_attachment=True)#, attachment_filename='python.jpg')\n",
        "\texcept Exception as e:\n",
        "\t\treturn str(e)\n",
        "\n",
        "\n",
        "\n",
        "if __name__ == \"__main__\":\n",
        "    flask_app.run()"
      ],
      "execution_count": 92,
      "outputs": [
        {
          "output_type": "stream",
          "text": [
            " * Running on http://127.0.0.1:5000/ (Press CTRL+C to quit)\n",
            "INFO:werkzeug: * Running on http://127.0.0.1:5000/ (Press CTRL+C to quit)\n"
          ],
          "name": "stderr"
        },
        {
          "output_type": "stream",
          "text": [
            " * Running on http://bc831ca74783.ngrok.io\n",
            " * Traffic stats available on http://127.0.0.1:4040\n"
          ],
          "name": "stdout"
        },
        {
          "output_type": "stream",
          "text": [
            "127.0.0.1 - - [26/Oct/2020 02:00:15] \"\u001b[37mGET / HTTP/1.1\u001b[0m\" 200 -\n",
            "INFO:werkzeug:127.0.0.1 - - [26/Oct/2020 02:00:15] \"\u001b[37mGET / HTTP/1.1\u001b[0m\" 200 -\n",
            "127.0.0.1 - - [26/Oct/2020 02:00:15] \"\u001b[37mGET /static/js/clientside_table.js HTTP/1.1\u001b[0m\" 200 -\n",
            "INFO:werkzeug:127.0.0.1 - - [26/Oct/2020 02:00:15] \"\u001b[37mGET /static/js/clientside_table.js HTTP/1.1\u001b[0m\" 200 -\n",
            "127.0.0.1 - - [26/Oct/2020 02:00:15] \"\u001b[37mGET /tables/ HTTP/1.1\u001b[0m\" 200 -\n",
            "INFO:werkzeug:127.0.0.1 - - [26/Oct/2020 02:00:15] \"\u001b[37mGET /tables/ HTTP/1.1\u001b[0m\" 200 -\n",
            "127.0.0.1 - - [26/Oct/2020 02:00:15] \"\u001b[37mGET /tables/ HTTP/1.1\u001b[0m\" 200 -\n",
            "INFO:werkzeug:127.0.0.1 - - [26/Oct/2020 02:00:15] \"\u001b[37mGET /tables/ HTTP/1.1\u001b[0m\" 200 -\n",
            "127.0.0.1 - - [26/Oct/2020 02:00:16] \"\u001b[37mGET /static/favicon.ico HTTP/1.1\u001b[0m\" 200 -\n",
            "INFO:werkzeug:127.0.0.1 - - [26/Oct/2020 02:00:16] \"\u001b[37mGET /static/favicon.ico HTTP/1.1\u001b[0m\" 200 -\n",
            "[2020-10-26 02:00:26,440] ERROR in app: Exception on /submit [POST]\n",
            "Traceback (most recent call last):\n",
            "  File \"<ipython-input-92-e3a6700c5d77>\", line 98, in receive_submission\n",
            "    print(jobname)\n",
            "NameError: name 'jobname' is not defined\n",
            "\n",
            "During handling of the above exception, another exception occurred:\n",
            "\n",
            "Traceback (most recent call last):\n",
            "  File \"/usr/local/lib/python3.6/dist-packages/flask/app.py\", line 1982, in wsgi_app\n",
            "    response = self.full_dispatch_request()\n",
            "  File \"/usr/local/lib/python3.6/dist-packages/flask/app.py\", line 1614, in full_dispatch_request\n",
            "    rv = self.handle_user_exception(e)\n",
            "  File \"/usr/local/lib/python3.6/dist-packages/flask/app.py\", line 1517, in handle_user_exception\n",
            "    reraise(exc_type, exc_value, tb)\n",
            "  File \"/usr/local/lib/python3.6/dist-packages/flask/_compat.py\", line 33, in reraise\n",
            "    raise value\n",
            "  File \"/usr/local/lib/python3.6/dist-packages/flask/app.py\", line 1612, in full_dispatch_request\n",
            "    rv = self.dispatch_request()\n",
            "  File \"/usr/local/lib/python3.6/dist-packages/flask/app.py\", line 1598, in dispatch_request\n",
            "    return self.view_functions[rule.endpoint](**req.view_args)\n",
            "  File \"<ipython-input-92-e3a6700c5d77>\", line 109, in receive_submission\n",
            "    data1 = StringIO(json.loads(answer['data1'][0]))\n",
            "TypeError: initial_value must be str or None, not list\n",
            "127.0.0.1 - - [26/Oct/2020 02:00:26] \"\u001b[35m\u001b[1mPOST /submit HTTP/1.1\u001b[0m\" 500 -\n",
            "INFO:werkzeug:127.0.0.1 - - [26/Oct/2020 02:00:26] \"\u001b[35m\u001b[1mPOST /submit HTTP/1.1\u001b[0m\" 500 -\n",
            "127.0.0.1 - - [26/Oct/2020 02:00:26] \"\u001b[37mGET /test HTTP/1.1\u001b[0m\" 200 -\n",
            "INFO:werkzeug:127.0.0.1 - - [26/Oct/2020 02:00:26] \"\u001b[37mGET /test HTTP/1.1\u001b[0m\" 200 -\n"
          ],
          "name": "stderr"
        },
        {
          "output_type": "stream",
          "text": [
            "PRESSED THE SUBMISSION BUTTOOOON\n",
            "{'data1': ['[[{\"row\":8,\"column\":1}]]'], 'data2': ['[[{\"row\":4,\"column\":1}]]'], 'genes': ['\"nlp\\\\r\\\\nflp\\\\r\\\\nins\"']}\n",
            "             Cell Type  L2_experiment_1  ...  tph-1_ceh-10  unc-3\n",
            "0     ABarpaaa_lineage                0  ...             0      0\n",
            "1                 ADA?                0  ...             1     62\n",
            "2  ADA_ADE_grandparent                0  ...             0      0\n",
            "3                  ADE                0  ...             1      2\n",
            "4          ADE_CEP_PDE              126  ...             0      0\n",
            "\n",
            "[5 rows x 22 columns]\n",
            "   row  column\n",
            "0    8       1\n",
            "20201026-020026\n",
            "  selected_genes\n",
            "0            nlp\n",
            "1            flp\n",
            "2            ins\n"
          ],
          "name": "stdout"
        },
        {
          "output_type": "stream",
          "text": [
            "127.0.0.1 - - [26/Oct/2020 02:00:27] \"\u001b[33mGET /static/js/submission_logic.js HTTP/1.1\u001b[0m\" 404 -\n",
            "INFO:werkzeug:127.0.0.1 - - [26/Oct/2020 02:00:27] \"\u001b[33mGET /static/js/submission_logic.js HTTP/1.1\u001b[0m\" 404 -\n"
          ],
          "name": "stderr"
        }
      ]
    },
    {
      "cell_type": "code",
      "metadata": {
        "id": "AjHioFV4a9cu"
      },
      "source": [
        "!cd scdefg/"
      ],
      "execution_count": 93,
      "outputs": []
    },
    {
      "cell_type": "code",
      "metadata": {
        "id": "nRzTH6loo00y"
      },
      "source": [
        ""
      ],
      "execution_count": 98,
      "outputs": []
    },
    {
      "cell_type": "code",
      "metadata": {
        "id": "T_1EzspRo1bR",
        "outputId": "26fac8f3-5abc-42d0-b695-c8d9ca409b17",
        "colab": {
          "base_uri": "https://localhost:8080/",
          "height": 34
        }
      },
      "source": [
        "# !git -C ./scdefg/ add df.csv static/* templates/*\n",
        "# !git -C ./scdefg/ status\n",
        "# !git -C ./scdefg/ commit -m \"commiting from colab!\"\n",
        "!git -C ./scdefg/ push -u origin main\n",
        "\n",
        "# !git -C ./scdefg/ config --global user.email munfred@brandeis.edu\n",
        "# !git -C ./scdefg/ config --global user.name munfred"
      ],
      "execution_count": 108,
      "outputs": [
        {
          "output_type": "stream",
          "text": [
            "fatal: could not read Username for 'https://github.com': No such device or address\n"
          ],
          "name": "stdout"
        }
      ]
    },
    {
      "cell_type": "code",
      "metadata": {
        "id": "sHn-YlbVpT6Z"
      },
      "source": [
        ""
      ],
      "execution_count": 104,
      "outputs": []
    },
    {
      "cell_type": "code",
      "metadata": {
        "id": "cTLcV9JgpklQ",
        "outputId": "d82c406a-2310-4b3f-d0b1-91ea8a497ac0",
        "colab": {
          "base_uri": "https://localhost:8080/",
          "height": 1000
        }
      },
      "source": [
        "!zip -r scdefg.zip scdefg/\n"
      ],
      "execution_count": 109,
      "outputs": [
        {
          "output_type": "stream",
          "text": [
            "  adding: scdefg/ (stored 0%)\n",
            "  adding: scdefg/LICENSE (deflated 43%)\n",
            "  adding: scdefg/.gitignore (deflated 46%)\n",
            "  adding: scdefg/static/ (stored 0%)\n",
            "  adding: scdefg/static/js/ (stored 0%)\n",
            "  adding: scdefg/static/js/clientside_table.js (deflated 73%)\n",
            "  adding: scdefg/static/js/.ipynb_checkpoints/ (stored 0%)\n",
            "  adding: scdefg/static/favicon.ico (stored 0%)\n",
            "  adding: scdefg/.git/ (stored 0%)\n",
            "  adding: scdefg/.git/config (deflated 33%)\n",
            "  adding: scdefg/.git/HEAD (stored 0%)\n",
            "  adding: scdefg/.git/refs/ (stored 0%)\n",
            "  adding: scdefg/.git/refs/remotes/ (stored 0%)\n",
            "  adding: scdefg/.git/refs/remotes/origin/ (stored 0%)\n",
            "  adding: scdefg/.git/refs/remotes/origin/HEAD (stored 0%)\n",
            "  adding: scdefg/.git/refs/heads/ (stored 0%)\n",
            "  adding: scdefg/.git/refs/heads/main (deflated 2%)\n",
            "  adding: scdefg/.git/refs/tags/ (stored 0%)\n",
            "  adding: scdefg/.git/index (deflated 38%)\n",
            "  adding: scdefg/.git/objects/ (stored 0%)\n",
            "  adding: scdefg/.git/objects/07/ (stored 0%)\n",
            "  adding: scdefg/.git/objects/07/011963bf26d9dced984b18cecd1c765534d823 (stored 0%)\n",
            "  adding: scdefg/.git/objects/88/ (stored 0%)\n",
            "  adding: scdefg/.git/objects/88/26ee00e3866146f9f5ec1f31dc448857b97e47 (stored 0%)\n",
            "  adding: scdefg/.git/objects/c4/ (stored 0%)\n",
            "  adding: scdefg/.git/objects/c4/22fb9d8731c27451d7ccf2f1cc3c2a5b441526 (stored 0%)\n",
            "  adding: scdefg/.git/objects/e0/ (stored 0%)\n",
            "  adding: scdefg/.git/objects/e0/51dd81c2554fd2a7b64a4bbe0786f49756a294 (stored 0%)\n",
            "  adding: scdefg/.git/objects/b7/ (stored 0%)\n",
            "  adding: scdefg/.git/objects/b7/55b4c2093f805b184a2d23edd223cc8b24f8c7 (stored 0%)\n",
            "  adding: scdefg/.git/objects/37/ (stored 0%)\n",
            "  adding: scdefg/.git/objects/37/fdcaa7c3d7dbcfc8c34c24d362b2b9d70a16b3 (stored 0%)\n",
            "  adding: scdefg/.git/objects/b6/ (stored 0%)\n",
            "  adding: scdefg/.git/objects/b6/e47617de110dea7ca47e087ff1347cc2646eda (stored 0%)\n",
            "  adding: scdefg/.git/objects/5e/ (stored 0%)\n",
            "  adding: scdefg/.git/objects/5e/8d4ccd998284f89f5e3c9107f4c72715692501 (stored 0%)\n",
            "  adding: scdefg/.git/objects/pack/ (stored 0%)\n",
            "  adding: scdefg/.git/objects/24/ (stored 0%)\n",
            "  adding: scdefg/.git/objects/24/c4d4a28667a392e0ff1058534bbd9096dddca6 (stored 0%)\n",
            "  adding: scdefg/.git/objects/info/ (stored 0%)\n",
            "  adding: scdefg/.git/objects/8a/ (stored 0%)\n",
            "  adding: scdefg/.git/objects/8a/54c75d67a9452bdf0514fe46204a22287dd206 (stored 0%)\n",
            "  adding: scdefg/.git/objects/a6/ (stored 0%)\n",
            "  adding: scdefg/.git/objects/a6/8c6a3100efb4c5d08bf1bca7aa7c8a2811e9f0 (stored 0%)\n",
            "  adding: scdefg/.git/objects/a6/68e66dbbf80d1a9119aa286bf08e34d76f9a70 (stored 0%)\n",
            "  adding: scdefg/.git/objects/70/ (stored 0%)\n",
            "  adding: scdefg/.git/objects/70/a240ce323370f6bd010cf2f503eb732228877d (stored 0%)\n",
            "  adding: scdefg/.git/objects/9b/ (stored 0%)\n",
            "  adding: scdefg/.git/objects/9b/8afa58214a17e6a235241916387d04d9b96525 (stored 0%)\n",
            "  adding: scdefg/.git/objects/eb/ (stored 0%)\n",
            "  adding: scdefg/.git/objects/eb/89e965daf5cbb4489bf4223284aa623f3be376 (stored 0%)\n",
            "  adding: scdefg/.git/objects/81/ (stored 0%)\n",
            "  adding: scdefg/.git/objects/81/3231a7b36aaed94f66d3e592b765ea2f3fe7a5 (stored 0%)\n",
            "  adding: scdefg/.git/objects/fd/ (stored 0%)\n",
            "  adding: scdefg/.git/objects/fd/ddb29aa445bf3d6a5d843d6dd77e10a9f99657 (stored 0%)\n",
            "  adding: scdefg/.git/objects/cd/ (stored 0%)\n",
            "  adding: scdefg/.git/objects/cd/2220ad29a9d2959789131b0109dc2bf6173f6a (stored 0%)\n",
            "  adding: scdefg/.git/objects/80/ (stored 0%)\n",
            "  adding: scdefg/.git/objects/80/1404f085572ff7e0d88ea7d62eaa85edb90825 (stored 0%)\n",
            "  adding: scdefg/.git/objects/c6/ (stored 0%)\n",
            "  adding: scdefg/.git/objects/c6/64fa0b94c0dae65705b5c97f6534d6374a5d82 (stored 0%)\n",
            "  adding: scdefg/.git/description (deflated 14%)\n",
            "  adding: scdefg/.git/packed-refs (deflated 9%)\n",
            "  adding: scdefg/.git/COMMIT_EDITMSG (stored 0%)\n",
            "  adding: scdefg/.git/info/ (stored 0%)\n",
            "  adding: scdefg/.git/info/exclude (deflated 28%)\n",
            "  adding: scdefg/.git/logs/ (stored 0%)\n",
            "  adding: scdefg/.git/logs/HEAD (deflated 41%)\n",
            "  adding: scdefg/.git/logs/refs/ (stored 0%)\n",
            "  adding: scdefg/.git/logs/refs/remotes/ (stored 0%)\n",
            "  adding: scdefg/.git/logs/refs/remotes/origin/ (stored 0%)\n",
            "  adding: scdefg/.git/logs/refs/remotes/origin/HEAD (deflated 28%)\n",
            "  adding: scdefg/.git/logs/refs/heads/ (stored 0%)\n",
            "  adding: scdefg/.git/logs/refs/heads/main (deflated 41%)\n",
            "  adding: scdefg/.git/branches/ (stored 0%)\n",
            "  adding: scdefg/.git/hooks/ (stored 0%)\n",
            "  adding: scdefg/.git/hooks/pre-rebase.sample (deflated 59%)\n",
            "  adding: scdefg/.git/hooks/pre-receive.sample (deflated 40%)\n",
            "  adding: scdefg/.git/hooks/prepare-commit-msg.sample (deflated 50%)\n",
            "  adding: scdefg/.git/hooks/applypatch-msg.sample (deflated 42%)\n",
            "  adding: scdefg/.git/hooks/fsmonitor-watchman.sample (deflated 53%)\n",
            "  adding: scdefg/.git/hooks/post-update.sample (deflated 27%)\n",
            "  adding: scdefg/.git/hooks/pre-commit.sample (deflated 43%)\n",
            "  adding: scdefg/.git/hooks/update.sample (deflated 68%)\n",
            "  adding: scdefg/.git/hooks/commit-msg.sample (deflated 44%)\n",
            "  adding: scdefg/.git/hooks/pre-applypatch.sample (deflated 38%)\n",
            "  adding: scdefg/.git/hooks/pre-push.sample (deflated 50%)\n",
            "  adding: scdefg/README.md (deflated 25%)\n",
            "  adding: scdefg/df.csv (deflated 70%)\n",
            "  adding: scdefg/templates/ (stored 0%)\n",
            "  adding: scdefg/templates/introduction.md (deflated 55%)\n",
            "  adding: scdefg/templates/clientside_table.html (deflated 68%)\n",
            "  adding: scdefg/templates/template.html (deflated 73%)\n",
            "  adding: scdefg/templates/about-the-data.md (deflated 58%)\n",
            "  adding: scdefg/templates/index.html (deflated 54%)\n",
            "  adding: scdefg/templates/test.html (deflated 50%)\n",
            "  adding: scdefg/templates/bayes_factors.html (deflated 63%)\n"
          ],
          "name": "stdout"
        }
      ]
    },
    {
      "cell_type": "code",
      "metadata": {
        "id": "sEvpUCviqQ_o"
      },
      "source": [
        ""
      ],
      "execution_count": null,
      "outputs": []
    }
  ]
}